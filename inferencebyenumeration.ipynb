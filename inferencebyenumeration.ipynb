{
 "cells": [
  {
   "cell_type": "markdown",
   "metadata": {},
   "source": [
    "<h1>Inference By Enumeration</h1>\n",
    "<div style=\"direction:rtl;font-family:B nazanin;font-size: 20px;line-height:45px\">\n",
    "<fieldset> \n",
    "<legend><b>هوش مصنوعی پیشرفته</b></legend> \n",
    "    <div>استاد: جناب آقای دکتر وحید صیدی</div>\n",
    "    <div>نام و نام خانوادگی: مهدی عبداللهی</div>\n",
    "    <div>شماره دانشجویی: 9844040111</div>\n",
    "</fieldset> \n",
    "</div>"
   ]
  },
  {
   "cell_type": "code",
   "execution_count": 152,
   "metadata": {},
   "outputs": [],
   "source": [
    "import csv\n",
    "import pandas"
   ]
  },
  {
   "cell_type": "code",
   "execution_count": 153,
   "metadata": {},
   "outputs": [],
   "source": [
    "df = pandas.read_csv('./data.csv')"
   ]
  },
  {
   "cell_type": "code",
   "execution_count": 154,
   "metadata": {},
   "outputs": [
    {
     "name": "stdout",
     "output_type": "stream",
     "text": [
      "   Session  Temp Weather     P\n",
      "0   summer   hot     sun  0.35\n",
      "1   summer   hot    rain  0.01\n",
      "2   summer   hot     fog  0.01\n",
      "3   summer   hot  meteor  0.00\n",
      "4   summer  cold     sun  0.10\n",
      "5   summer  cold    rain  0.05\n",
      "6   summer  cold     fog  0.09\n",
      "7   summer  cold  meteor  0.00\n",
      "8   winter   hot     sun  0.10\n",
      "9   winter   hot    rain  0.01\n",
      "10  winter   hot     fog  0.02\n",
      "11  winter   hot  meteor  0.00\n",
      "12  winter  cold     sun  0.15\n",
      "13  winter  cold    rain  0.20\n",
      "14  winter  cold     fog  0.18\n",
      "15  winter  cold  meteor  0.00\n"
     ]
    }
   ],
   "source": [
    "print(df)"
   ]
  },
  {
   "cell_type": "code",
   "execution_count": 155,
   "metadata": {},
   "outputs": [
    {
     "name": "stdout",
     "output_type": "stream",
     "text": [
      "sun P is: 0.35\n",
      "sun P is: 0.1\n",
      "sun P is: 0.1\n",
      "sun P is: 0.15\n",
      "P(w=sun) is: 0.7\n"
     ]
    }
   ],
   "source": [
    "data = open('data.csv', 'r') \n",
    "myData = csv.reader(data) \n",
    "index = 0\n",
    "sun = []\n",
    "for row in myData:\n",
    "#     print(row[2])\n",
    "    if row[2] == 'sun': \n",
    "        print('sun P is:', float(row[3]))\n",
    "        sun.append(float(row[3]))\n",
    "    else : index+=1\n",
    "        \n",
    "print('P(w=sun) is:', sum(sun))"
   ]
  },
  {
   "cell_type": "code",
   "execution_count": 156,
   "metadata": {},
   "outputs": [
    {
     "name": "stdout",
     "output_type": "stream",
     "text": [
      "rain P is: 0.01\n",
      "rain P is: 0.05\n",
      "rain P is: 0.01\n",
      "rain P is: 0.2\n",
      "P(w=rain) is: 0.27\n"
     ]
    }
   ],
   "source": [
    "data = open('data.csv', 'r') \n",
    "myData = csv.reader(data) \n",
    "index = 0\n",
    "rain = []\n",
    "for row in myData:\n",
    "    if row[2] == 'rain': \n",
    "        print('rain P is:', float(row[3]))\n",
    "        rain.append(float(row[3]))\n",
    "    else : index+=1\n",
    "        \n",
    "print('P(w=rain) is:', sum(rain))"
   ]
  },
  {
   "cell_type": "code",
   "execution_count": 157,
   "metadata": {},
   "outputs": [
    {
     "name": "stdout",
     "output_type": "stream",
     "text": [
      "fog P is: 0.01\n",
      "fog P is: 0.09\n",
      "fog P is: 0.02\n",
      "fog P is: 0.18\n",
      "P(w=fog) is: 0.3\n"
     ]
    }
   ],
   "source": [
    "data = open('data.csv', 'r') \n",
    "myData = csv.reader(data) \n",
    "index = 0\n",
    "fog = []\n",
    "for row in myData:\n",
    "    if row[2] == 'fog': \n",
    "        print('fog P is:', float(row[3]))\n",
    "        fog.append(float(row[3]))\n",
    "    else : index+=1\n",
    "        \n",
    "print('P(w=fog) is:', sum(fog))"
   ]
  },
  {
   "cell_type": "code",
   "execution_count": 158,
   "metadata": {},
   "outputs": [
    {
     "name": "stdout",
     "output_type": "stream",
     "text": [
      "meteor P is: 0.0\n",
      "meteor P is: 0.0\n",
      "meteor P is: 0.0\n",
      "meteor P is: 0.0\n",
      "P(w=meteor) is: 0.0\n"
     ]
    }
   ],
   "source": [
    "data = open('data.csv', 'r') \n",
    "myData = csv.reader(data) \n",
    "index = 0\n",
    "meteor = []\n",
    "for row in myData:\n",
    "    if row[2] == 'meteor': \n",
    "        print('meteor P is:', float(row[3]))\n",
    "        meteor.append(float(row[3]))\n",
    "    else : index+=1\n",
    "        \n",
    "print('P(w=meteor) is:', sum(meteor))"
   ]
  },
  {
   "cell_type": "code",
   "execution_count": 162,
   "metadata": {},
   "outputs": [
    {
     "name": "stdout",
     "output_type": "stream",
     "text": [
      "sun P is: 0.1\n",
      "sun P is: 0.15\n",
      "P(w=sun) is: 0.25\n"
     ]
    }
   ],
   "source": [
    "data = open('data.csv', 'r') \n",
    "myData = csv.reader(data) \n",
    "index = 0\n",
    "sun2 = []\n",
    "for row in myData:\n",
    "    if (row[0] == 'winter' and row[2] == 'sun'): \n",
    "        print('sun P is:', float(row[3]))\n",
    "        sun2.append(float(row[3]))\n",
    "    else : index+=1\n",
    "        \n",
    "print('P(w=sun) is:', sum(sun2))"
   ]
  },
  {
   "cell_type": "code",
   "execution_count": 167,
   "metadata": {},
   "outputs": [
    {
     "name": "stdout",
     "output_type": "stream",
     "text": [
      "rain P is: 0.01\n",
      "rain P is: 0.2\n",
      "P(w=rain) is: 0.21\n"
     ]
    }
   ],
   "source": [
    "data = open('data.csv', 'r') \n",
    "myData = csv.reader(data) \n",
    "index = 0\n",
    "rain2 = []\n",
    "for row in myData:\n",
    "    if (row[0] == 'winter' and row[2] == 'rain'): \n",
    "        print('rain P is:', float(row[3]))\n",
    "        rain2.append(float(row[3]))\n",
    "    else : index+=1\n",
    "        \n",
    "print('P(w=rain) is:', round(sum(rain2), 2))"
   ]
  },
  {
   "cell_type": "code",
   "execution_count": 166,
   "metadata": {},
   "outputs": [
    {
     "name": "stdout",
     "output_type": "stream",
     "text": [
      "fog P is: 0.02\n",
      "fog P is: 0.18\n",
      "P(w=rain) is: 0.2\n"
     ]
    }
   ],
   "source": [
    "data = open('data.csv', 'r') \n",
    "myData = csv.reader(data) \n",
    "index = 0\n",
    "fog2 = []\n",
    "for row in myData:\n",
    "    if (row[0] == 'winter' and row[2] == 'fog'): \n",
    "        print('fog P is:', float(row[3]))\n",
    "        fog2.append(float(row[3]))\n",
    "    else : index+=1\n",
    "        \n",
    "print('P(w=rain) is:', round(sum(fog2), 2))"
   ]
  },
  {
   "cell_type": "code",
   "execution_count": 168,
   "metadata": {},
   "outputs": [
    {
     "name": "stdout",
     "output_type": "stream",
     "text": [
      "meteor P is: 0.0\n",
      "meteor P is: 0.0\n",
      "P(w=meteor) is: 0.0\n"
     ]
    }
   ],
   "source": [
    "data = open('data.csv', 'r') \n",
    "myData = csv.reader(data) \n",
    "index = 0\n",
    "meteor2 = []\n",
    "for row in myData:\n",
    "    if (row[0] == 'winter' and row[2] == 'meteor'): \n",
    "        print('meteor P is:', float(row[3]))\n",
    "        meteor2.append(float(row[3]))\n",
    "    else : index+=1\n",
    "        \n",
    "print('P(w=meteor) is:', round(sum(meteor2), 2))"
   ]
  },
  {
   "cell_type": "code",
   "execution_count": 192,
   "metadata": {},
   "outputs": [
    {
     "name": "stdout",
     "output_type": "stream",
     "text": [
      "Sum over all entries is: 0.66\n",
      "Alfa is: 1.5151515151515151\n"
     ]
    }
   ],
   "source": [
    "# alfa = 1/(sum over all entries)\n",
    "sun = round(sum(sun2), 2)\n",
    "rain = round(sum(rain2), 2)\n",
    "fog = round(sum(fog2), 2)\n",
    "meteor = round(sum(meteor2), 2)\n",
    "sumall = round(sun+rain+fog+meteor, 2)\n",
    "\n",
    "print('Sum over all entries is:', sumall)\n",
    "\n",
    "alfa = 1/sumall\n",
    "print('Alfa is:', alfa)"
   ]
  },
  {
   "cell_type": "code",
   "execution_count": 198,
   "metadata": {},
   "outputs": [
    {
     "name": "stdout",
     "output_type": "stream",
     "text": [
      "P(W=sun|Winter) is: 0.3787878787878788\n",
      "P(W=rain|Winter) is: 0.3181818181818182\n",
      "P(W=fog|Winter) is: 0.30303030303030304\n",
      "P(W=meteor|Winter) is: 0.0\n"
     ]
    }
   ],
   "source": [
    "# Normalize\n",
    "print('P(W=sun|Winter) is:', sun*alfa)\n",
    "print('P(W=rain|Winter) is:', rain*alfa)\n",
    "print('P(W=fog|Winter) is:', fog*alfa)\n",
    "print('P(W=meteor|Winter) is:', meteor*alfa)"
   ]
  }
 ],
 "metadata": {
  "kernelspec": {
   "display_name": "Python 3",
   "language": "python",
   "name": "python3"
  },
  "language_info": {
   "codemirror_mode": {
    "name": "ipython",
    "version": 3
   },
   "file_extension": ".py",
   "mimetype": "text/x-python",
   "name": "python",
   "nbconvert_exporter": "python",
   "pygments_lexer": "ipython3",
   "version": "3.8.0"
  }
 },
 "nbformat": 4,
 "nbformat_minor": 2
}
